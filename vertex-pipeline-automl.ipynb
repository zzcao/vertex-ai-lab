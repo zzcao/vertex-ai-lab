{
 "cells": [
  {
   "cell_type": "markdown",
   "id": "eded9263-e77a-41ab-8929-13db353e66ce",
   "metadata": {
    "tags": []
   },
   "source": [
    "# 利用Vertex Pipeline实现图片分类模型的自动化训练与部署（AutoML）"
   ]
  },
  {
   "cell_type": "markdown",
   "id": "cbaeffc0-1101-4953-bfea-e9485db97446",
   "metadata": {
    "tags": []
   },
   "source": [
    "## 步骤一：环境准备"
   ]
  },
  {
   "cell_type": "markdown",
   "id": "1bce3ee2-929c-4674-a195-ce55586b210c",
   "metadata": {
    "tags": []
   },
   "source": [
    "### 1.1 安装依赖包"
   ]
  },
  {
   "cell_type": "code",
   "execution_count": null,
   "id": "a6ba45bd-d506-4b54-90f7-31717c545c04",
   "metadata": {},
   "outputs": [],
   "source": [
    "import os\n",
    "\n",
    "# Google Cloud Notebook\n",
    "if os.path.exists(\"/opt/deeplearning/metadata/env_version\"):\n",
    "    USER_FLAG = \"--user\"\n",
    "else:\n",
    "    USER_FLAG = \"\""
   ]
  },
  {
   "cell_type": "code",
   "execution_count": null,
   "id": "5232522d-64a0-41c7-81f5-a1661343e205",
   "metadata": {},
   "outputs": [],
   "source": [
    "! pip3 install --upgrade google-cloud-aiplatform $USER_FLAG\n",
    "! pip3 install -U google-cloud-storage $USER_FLAG\n",
    "! pip3 install $USER kfp google-cloud-pipeline-components --upgrade"
   ]
  },
  {
   "cell_type": "markdown",
   "id": "02d89424-b9e2-4bb1-a3d9-3b3881532791",
   "metadata": {},
   "source": [
    "重启kernel，使环境生效。"
   ]
  },
  {
   "cell_type": "code",
   "execution_count": 5,
   "id": "a1cde141-c2a9-449f-85bb-88dd374456bf",
   "metadata": {},
   "outputs": [],
   "source": [
    "import os\n",
    "\n",
    "if not os.getenv(\"IS_TESTING\"):\n",
    "    # Automatically restart kernel after installs\n",
    "    import IPython\n",
    "\n",
    "    app = IPython.Application.instance()\n",
    "    app.kernel.do_shutdown(True)"
   ]
  },
  {
   "cell_type": "markdown",
   "id": "d2c4bc6a-2dbb-40e7-a525-87117830977f",
   "metadata": {
    "tags": []
   },
   "source": [
    "### 1.2 设置环境变量"
   ]
  },
  {
   "cell_type": "code",
   "execution_count": null,
   "id": "0ced37ec-d6c2-40fa-978f-fef30423c496",
   "metadata": {},
   "outputs": [],
   "source": [
    "PROJECT_ID = \"\" \n",
    "if PROJECT_ID == \"\" or PROJECT_ID is None or PROJECT_ID == \"[your-project-id]\":\n",
    "    # Get your GCP project id from gcloud\n",
    "    shell_output = ! gcloud config list --format 'value(core.project)' 2>/dev/null\n",
    "    PROJECT_ID = shell_output[0]\n",
    "    print(\"Project ID:\", PROJECT_ID)"
   ]
  },
  {
   "cell_type": "code",
   "execution_count": null,
   "id": "4667a69f-9c01-42b9-b650-b31c02e937d8",
   "metadata": {},
   "outputs": [],
   "source": [
    "! gcloud config set project $PROJECT_ID"
   ]
  },
  {
   "cell_type": "code",
   "execution_count": 3,
   "id": "d84a86f3-21fb-4620-bacb-726b88919700",
   "metadata": {},
   "outputs": [],
   "source": [
    "REGION = \"us-central1\" "
   ]
  },
  {
   "cell_type": "markdown",
   "id": "ac0ae449-1de2-4002-a359-41856efffebd",
   "metadata": {},
   "source": [
    "### 1.3 创建资源"
   ]
  },
  {
   "cell_type": "markdown",
   "id": "61769b48-4e16-4f3b-9e9e-3a21dc2dde60",
   "metadata": {},
   "source": [
    "创建GCS存储桶，该存储桶的用途包括：  \n",
    "- 存放Vertex AI Dataset源文件。  \n",
    "- 存放Vertex Pipeline每个步骤产生的Output数据（Vertex的Pipeline通常由多个步骤组成，在很多场景下，某一步骤的任务会使用上一步骤或上几个步骤产生的output数据）。  \n",
    "- 存放训练后的模型，Vertex training job在结束模型的训练后，会将模型存放在此存储桶上，最后Vertex Predict Endpoint在部署模型时会从此存储桶下载模型。"
   ]
  },
  {
   "cell_type": "code",
   "execution_count": 4,
   "id": "a69eef5c-79fa-4c9e-aca5-4a1e80ec9bb7",
   "metadata": {},
   "outputs": [],
   "source": [
    "BUCKET_NAME = \"gs://vertex-pipeline-automl-charles\""
   ]
  },
  {
   "cell_type": "code",
   "execution_count": null,
   "id": "d96ef968-3f35-4060-9f22-d6a3c819191c",
   "metadata": {},
   "outputs": [],
   "source": [
    "! gsutil mb -l $REGION $BUCKET_NAME"
   ]
  },
  {
   "cell_type": "markdown",
   "id": "65476fb6-9729-4545-82ae-4469506f5dee",
   "metadata": {},
   "source": [
    "### 1.4 权限配置"
   ]
  },
  {
   "cell_type": "markdown",
   "id": "abcd8ac6-60c0-4760-b52e-3cfb25dc8c49",
   "metadata": {},
   "source": [
    "Vertex AI 会为workbench实例自动分配并创建service account，通过为该service account分配存储桶的操作权限，用户可以在workbench实例上对存储桶进行数据上传、下载等操作。"
   ]
  },
  {
   "cell_type": "code",
   "execution_count": null,
   "id": "624a4184-ce7b-4111-a3ad-2b7cf625695f",
   "metadata": {},
   "outputs": [],
   "source": [
    "SERVICE_ACCOUNT = \"\" \n",
    "if (\n",
    "    SERVICE_ACCOUNT == \"\"\n",
    "    or SERVICE_ACCOUNT is None\n",
    "    or SERVICE_ACCOUNT == \"[your-service-account]\"\n",
    "):\n",
    "    # Get your GCP project id from gcloud\n",
    "    shell_output = !gcloud auth list 2>/dev/null\n",
    "    SERVICE_ACCOUNT = shell_output[2].strip()\n",
    "    print(\"Service Account:\", SERVICE_ACCOUNT)"
   ]
  },
  {
   "cell_type": "code",
   "execution_count": 7,
   "id": "bbcb60d6-a6c7-4e4f-a616-93f05ca1433b",
   "metadata": {},
   "outputs": [],
   "source": [
    "SERVICE_ACCOUNT = \"71837221026-compute@developer.gserviceaccount.com\""
   ]
  },
  {
   "cell_type": "code",
   "execution_count": 8,
   "id": "2b2466f0-cb7c-4c28-9042-92edec0f9f89",
   "metadata": {},
   "outputs": [],
   "source": [
    "! gsutil iam ch serviceAccount:{SERVICE_ACCOUNT}:roles/storage.objectCreator $BUCKET_NAME\n",
    "! gsutil iam ch serviceAccount:{SERVICE_ACCOUNT}:roles/storage.objectViewer $BUCKET_NAME"
   ]
  },
  {
   "cell_type": "markdown",
   "id": "61c3ba9f-41f8-44d4-86f2-3d42c197f074",
   "metadata": {},
   "source": [
    "### 1.5 上传数据集描述文件"
   ]
  },
  {
   "cell_type": "code",
   "execution_count": null,
   "id": "adc29663-3940-4a6d-96cc-30859b12cced",
   "metadata": {},
   "outputs": [],
   "source": [
    "! gsutil cp dataset.csv $BUCKET_NAME"
   ]
  },
  {
   "cell_type": "markdown",
   "id": "2a689932-efbb-421b-9581-6f0aa1887297",
   "metadata": {
    "tags": []
   },
   "source": [
    "## 步骤二： 编写Vertex Pipeline"
   ]
  },
  {
   "cell_type": "markdown",
   "id": "073dfff5-79ae-4934-8faa-2df2e7c9c78d",
   "metadata": {},
   "source": [
    "Vertex AI Pipeline 提供了功能完备的sdk供开发者调用，开发者可以利用SDK快速构建机器学习工作流，并将工作流按照特定的顺序和逻辑编排起来。此外Vertex AI Pipeline与Vertex AI其它的功能以及GCP的其它服务进行了深度集成，从而使开发者可以快速轻松地创建工作流的任务，如创建Vertex AI训练任务、创建Vertex AI模型部署、向Big Query传输数据等。Vertex AI Pipeline与开源的Kubeflow pipeline接口兼容，并在开源的基础上做了更多的扩展，对于熟悉Kubeflow Pipeline的开发人员，可以快速地掌握Vertex AI Pipeline。\n",
    "\n",
    "在本实验中，我们将利用Vertex AI Pipeline的sdk定义一个端到端的机器学习工作流，改了流程由四个步骤组成：  \n",
    "- 创建Vertex AI 数据集，该任务会从GCS存储桶上读取dataset数据源文件，完成数据集的创建。\n",
    "- 创建Auto ML训练任务，AutoML任务会自动加载Vertex AI dataset，自动分析数据集后选择最佳的模型进行训练。\n",
    "- 创建Vertex AI Endpoint。\n",
    "- 部署Vertex AI Model 至 Vertex AI Endpoint。\n"
   ]
  },
  {
   "cell_type": "code",
   "execution_count": 15,
   "id": "453b993e-92e6-475c-b52a-3984ac0512a6",
   "metadata": {},
   "outputs": [],
   "source": [
    "import google.cloud.aiplatform as aip\n",
    "import kfp\n",
    "from google_cloud_pipeline_components import aiplatform as gcc_aip"
   ]
  },
  {
   "cell_type": "code",
   "execution_count": 26,
   "id": "c62a8366-1e2c-4701-ac25-b88bcb054d0b",
   "metadata": {},
   "outputs": [],
   "source": [
    "API_ENDPOINT = \"{}-aiplatform.googleapis.com\".format(REGION)\n",
    "PIPELINE_ROOT = \"{}/pipeline_root/flowers\".format(BUCKET_NAME)\n",
    "DATA_SOURCE = BUCKET_NAME + \"/dataset.csv\""
   ]
  },
  {
   "cell_type": "code",
   "execution_count": 27,
   "id": "89ccb392-8180-45e0-8781-f0e00719bb0e",
   "metadata": {},
   "outputs": [],
   "source": [
    "aip.init(project=PROJECT_ID, staging_bucket=BUCKET_NAME)"
   ]
  },
  {
   "cell_type": "code",
   "execution_count": 28,
   "id": "8d76e21a-0073-4db6-8c09-0c3acf97a5f5",
   "metadata": {},
   "outputs": [],
   "source": [
    "@kfp.dsl.pipeline(name=\"automl-training-pipeline\")\n",
    "def pipeline(project: str = PROJECT_ID, region: str = REGION, data_source: str = DATA_SOURCE):\n",
    "    ds_op = gcc_aip.ImageDatasetCreateOp(\n",
    "        project=project,\n",
    "        display_name=\"flower_dataset\",\n",
    "        gcs_source=data_source,\n",
    "        import_schema_uri=aip.schema.dataset.ioformat.image.single_label_classification,\n",
    "    )\n",
    "\n",
    "    training_job_run_op = gcc_aip.AutoMLImageTrainingJobRunOp(\n",
    "        project=project,\n",
    "        display_name=\"train-automl-flowers\",\n",
    "        prediction_type=\"classification\",\n",
    "        model_type=\"CLOUD\",\n",
    "        dataset=ds_op.outputs[\"dataset\"],\n",
    "        model_display_name=\"train-automl-flowers\",\n",
    "        training_fraction_split=0.6,\n",
    "        validation_fraction_split=0.2,\n",
    "        test_fraction_split=0.2,\n",
    "        budget_milli_node_hours=8000,\n",
    "    )\n",
    "\n",
    "    endpoint_op = gcc_aip.EndpointCreateOp(\n",
    "        project=project,\n",
    "        location=region,\n",
    "        display_name=\"train-automl-flowers\",\n",
    "    )\n",
    "\n",
    "    gcc_aip.ModelDeployOp(\n",
    "        model=training_job_run_op.outputs[\"model\"],\n",
    "        endpoint=endpoint_op.outputs[\"endpoint\"],\n",
    "        automatic_resources_min_replica_count=1,\n",
    "        automatic_resources_max_replica_count=1,\n",
    "    )"
   ]
  },
  {
   "cell_type": "markdown",
   "id": "7b618a39-342f-46c7-a4ca-2b06bf27d119",
   "metadata": {},
   "source": [
    "## 步骤三：编译 Vertex Pipeline"
   ]
  },
  {
   "cell_type": "code",
   "execution_count": 29,
   "id": "80b5968e-6dfa-4838-ab38-f3acd19033bb",
   "metadata": {},
   "outputs": [],
   "source": [
    "from kfp.v2 import compiler  \n",
    "\n",
    "compiler.Compiler().compile(\n",
    "    pipeline_func=pipeline,\n",
    "    package_path=\"automl training pipeline.json\".replace(\" \", \"-\"),\n",
    ")"
   ]
  },
  {
   "cell_type": "markdown",
   "id": "ed08b3a9-70e5-449d-a3fa-229402fa8fbf",
   "metadata": {},
   "source": [
    "## 步骤四： 运行Pipeline"
   ]
  },
  {
   "cell_type": "code",
   "execution_count": null,
   "id": "c5cf08cc-4395-4ad3-9998-75261cc9920f",
   "metadata": {},
   "outputs": [],
   "source": [
    "from datetime import datetime\n",
    "\n",
    "TIMESTAMP = datetime.now().strftime(\"%Y%m%d%H%M%S\")\n",
    "\n",
    "DISPLAY_NAME = \"automl-training-pipeline_\" + TIMESTAMP\n",
    "\n",
    "job = aip.PipelineJob(\n",
    "    display_name=DISPLAY_NAME,\n",
    "    template_path=\"automl training pipeline.json\".replace(\" \", \"-\"),\n",
    "    pipeline_root=PIPELINE_ROOT,\n",
    "    enable_caching=False,\n",
    ")\n",
    "\n",
    "job.run()"
   ]
  },
  {
   "cell_type": "code",
   "execution_count": null,
   "id": "c8faa4f7-e148-4842-9f29-84c25ba492f9",
   "metadata": {},
   "outputs": [],
   "source": [
    "步骤五：清除环境"
   ]
  },
  {
   "cell_type": "code",
   "execution_count": null,
   "id": "7aaa2dc6-f283-40ae-b0c7-f7c03bf6bcfa",
   "metadata": {},
   "outputs": [],
   "source": []
  }
 ],
 "metadata": {
  "environment": {
   "kernel": "python3",
   "name": "common-cpu.m87",
   "type": "gcloud",
   "uri": "gcr.io/deeplearning-platform-release/base-cpu:m87"
  },
  "kernelspec": {
   "display_name": "Python 3",
   "language": "python",
   "name": "python3"
  },
  "language_info": {
   "codemirror_mode": {
    "name": "ipython",
    "version": 3
   },
   "file_extension": ".py",
   "mimetype": "text/x-python",
   "name": "python",
   "nbconvert_exporter": "python",
   "pygments_lexer": "ipython3",
   "version": "3.7.12"
  }
 },
 "nbformat": 4,
 "nbformat_minor": 5
}
