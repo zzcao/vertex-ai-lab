{
 "cells": [
  {
   "cell_type": "markdown",
   "id": "eded9263-e77a-41ab-8929-13db353e66ce",
   "metadata": {
    "tags": []
   },
   "source": [
    "# 利用Vertex Pipeline实现图片分类模型的自动化训练与部署（AutoML）"
   ]
  },
  {
   "cell_type": "markdown",
   "id": "cbaeffc0-1101-4953-bfea-e9485db97446",
   "metadata": {
    "tags": []
   },
   "source": [
    "## 步骤一：环境准备"
   ]
  },
  {
   "cell_type": "markdown",
   "id": "1bce3ee2-929c-4674-a195-ce55586b210c",
   "metadata": {
    "tags": []
   },
   "source": [
    "### 1.1 安装依赖包"
   ]
  },
  {
   "cell_type": "code",
   "execution_count": 1,
   "id": "a6ba45bd-d506-4b54-90f7-31717c545c04",
   "metadata": {},
   "outputs": [],
   "source": [
    "import os\n",
    "\n",
    "# Google Cloud Notebook\n",
    "if os.path.exists(\"/opt/deeplearning/metadata/env_version\"):\n",
    "    USER_FLAG = \"--user\"\n",
    "else:\n",
    "    USER_FLAG = \"\""
   ]
  },
  {
   "cell_type": "code",
   "execution_count": null,
   "id": "5232522d-64a0-41c7-81f5-a1661343e205",
   "metadata": {},
   "outputs": [],
   "source": [
    "! pip3 install --upgrade google-cloud-aiplatform $USER_FLAG\n",
    "! pip3 install -U google-cloud-storage $USER_FLAG\n",
    "! pip3 install $USER kfp google-cloud-pipeline-components --upgrade"
   ]
  },
  {
   "cell_type": "markdown",
   "id": "02d89424-b9e2-4bb1-a3d9-3b3881532791",
   "metadata": {},
   "source": [
    "重启kernel，使环境生效。"
   ]
  },
  {
   "cell_type": "code",
   "execution_count": 3,
   "id": "a1cde141-c2a9-449f-85bb-88dd374456bf",
   "metadata": {},
   "outputs": [],
   "source": [
    "import os\n",
    "\n",
    "if not os.getenv(\"IS_TESTING\"):\n",
    "    # Automatically restart kernel after installs\n",
    "    import IPython\n",
    "\n",
    "    app = IPython.Application.instance()\n",
    "    app.kernel.do_shutdown(True)"
   ]
  },
  {
   "cell_type": "markdown",
   "id": "d2c4bc6a-2dbb-40e7-a525-87117830977f",
   "metadata": {
    "tags": []
   },
   "source": [
    "### 1.2 设置环境变量"
   ]
  },
  {
   "cell_type": "code",
   "execution_count": null,
   "id": "0ced37ec-d6c2-40fa-978f-fef30423c496",
   "metadata": {},
   "outputs": [],
   "source": [
    "PROJECT_ID = \"\" \n",
    "if PROJECT_ID == \"\" or PROJECT_ID is None or PROJECT_ID == \"[your-project-id]\":\n",
    "    # Get your GCP project id from gcloud\n",
    "    shell_output = ! gcloud config list --format 'value(core.project)' 2>/dev/null\n",
    "    PROJECT_ID = shell_output[0]\n",
    "    print(\"Project ID:\", PROJECT_ID)"
   ]
  },
  {
   "cell_type": "markdown",
   "id": "a92f661e-c5a2-4bd8-a8e9-b3703c3d1f02",
   "metadata": {},
   "source": [
    "将<PROJECT_ID>替换成上一步输出的project_ID"
   ]
  },
  {
   "cell_type": "code",
   "execution_count": 34,
   "id": "1d2f58cb-6f1b-4d93-a0b1-c338c3a076a9",
   "metadata": {},
   "outputs": [],
   "source": [
    "PROJECT_ID = <PROJECT_ID>"
   ]
  },
  {
   "cell_type": "code",
   "execution_count": null,
   "id": "4667a69f-9c01-42b9-b650-b31c02e937d8",
   "metadata": {},
   "outputs": [],
   "source": [
    "! gcloud config set project $PROJECT_ID"
   ]
  },
  {
   "cell_type": "code",
   "execution_count": 4,
   "id": "d84a86f3-21fb-4620-bacb-726b88919700",
   "metadata": {},
   "outputs": [],
   "source": [
    "REGION = \"us-central1\" "
   ]
  },
  {
   "cell_type": "markdown",
   "id": "ac0ae449-1de2-4002-a359-41856efffebd",
   "metadata": {},
   "source": [
    "### 1.3 创建资源"
   ]
  },
  {
   "cell_type": "markdown",
   "id": "61769b48-4e16-4f3b-9e9e-3a21dc2dde60",
   "metadata": {},
   "source": [
    "创建GCS存储桶，该存储桶的用途包括：  \n",
    "- 存放Vertex AI Dataset源文件。  \n",
    "- 存放Vertex Pipeline每个步骤产生的Output数据（Vertex的Pipeline通常由多个步骤组成，在很多场景下，某一步骤的任务会使用上一步骤或上几个步骤产生的output数据）。  \n",
    "- 存放训练后的模型，Vertex training job在结束模型的训练后，会将模型存放在此存储桶上，最后Vertex Predict Endpoint在部署模型时会从此存储桶下载模型。"
   ]
  },
  {
   "cell_type": "markdown",
   "id": "e5f33cb2-eb6a-4e09-b21c-e7e12396fab7",
   "metadata": {},
   "source": [
    "将<your_name>替换成自己名字的缩写。"
   ]
  },
  {
   "cell_type": "code",
   "execution_count": 5,
   "id": "a69eef5c-79fa-4c9e-aca5-4a1e80ec9bb7",
   "metadata": {},
   "outputs": [],
   "source": [
    "BUCKET_NAME = \"gs://vertex-ai-pipeline-automl-<your_name>\""
   ]
  },
  {
   "cell_type": "code",
   "execution_count": null,
   "id": "d96ef968-3f35-4060-9f22-d6a3c819191c",
   "metadata": {},
   "outputs": [],
   "source": [
    "! gsutil mb -l $REGION $BUCKET_NAME"
   ]
  },
  {
   "cell_type": "markdown",
   "id": "65476fb6-9729-4545-82ae-4469506f5dee",
   "metadata": {},
   "source": [
    "### 1.4 权限配置"
   ]
  },
  {
   "cell_type": "markdown",
   "id": "abcd8ac6-60c0-4760-b52e-3cfb25dc8c49",
   "metadata": {},
   "source": [
    "Vertex AI 会为workbench实例自动分配并创建service account，通过为该service account分配存储桶的操作权限，用户可以在workbench实例上对存储桶进行数据上传、下载等操作。"
   ]
  },
  {
   "cell_type": "code",
   "execution_count": null,
   "id": "624a4184-ce7b-4111-a3ad-2b7cf625695f",
   "metadata": {},
   "outputs": [],
   "source": [
    "SERVICE_ACCOUNT = \"\" \n",
    "if (\n",
    "    SERVICE_ACCOUNT == \"\"\n",
    "    or SERVICE_ACCOUNT is None\n",
    "    or SERVICE_ACCOUNT == \"[your-service-account]\"\n",
    "):\n",
    "    # Get your GCP project id from gcloud\n",
    "    shell_output = !gcloud auth list 2>/dev/null\n",
    "    SERVICE_ACCOUNT = shell_output[2].strip()\n",
    "    print(\"Service Account:\", SERVICE_ACCOUNT)"
   ]
  },
  {
   "cell_type": "markdown",
   "id": "48d82453-0629-425c-a423-e9e2f5f2a643",
   "metadata": {},
   "source": [
    "将<SERVICE_ACCOUNT>替换成上一步输出的service account。"
   ]
  },
  {
   "cell_type": "code",
   "execution_count": 8,
   "id": "bbcb60d6-a6c7-4e4f-a616-93f05ca1433b",
   "metadata": {},
   "outputs": [],
   "source": [
    "SERVICE_ACCOUNT = \"<SERVICE_ACCOUNT>\""
   ]
  },
  {
   "cell_type": "code",
   "execution_count": 9,
   "id": "2b2466f0-cb7c-4c28-9042-92edec0f9f89",
   "metadata": {},
   "outputs": [],
   "source": [
    "! gsutil iam ch serviceAccount:{SERVICE_ACCOUNT}:roles/storage.objectCreator $BUCKET_NAME\n",
    "! gsutil iam ch serviceAccount:{SERVICE_ACCOUNT}:roles/storage.objectViewer $BUCKET_NAME"
   ]
  },
  {
   "cell_type": "markdown",
   "id": "61c3ba9f-41f8-44d4-86f2-3d42c197f074",
   "metadata": {},
   "source": [
    "### 1.5 上传数据集描述文件"
   ]
  },
  {
   "cell_type": "markdown",
   "id": "1677c3f1-64c4-43c2-a661-ac56f19d5156",
   "metadata": {},
   "source": [
    "描述文件是一个格式为csv的文件，该文件内描述每个图片在GCS上存储的位置以及对应的分类，Vertex AI会利用该描述文件自动生成数据集。"
   ]
  },
  {
   "cell_type": "code",
   "execution_count": null,
   "id": "adc29663-3940-4a6d-96cc-30859b12cced",
   "metadata": {},
   "outputs": [],
   "source": [
    "! gsutil cp /home/jupyter/vertex-ai-lab/dataset.csv $BUCKET_NAME"
   ]
  },
  {
   "cell_type": "markdown",
   "id": "2a689932-efbb-421b-9581-6f0aa1887297",
   "metadata": {
    "tags": []
   },
   "source": [
    "## 步骤二： 编写Vertex Pipeline"
   ]
  },
  {
   "cell_type": "markdown",
   "id": "073dfff5-79ae-4934-8faa-2df2e7c9c78d",
   "metadata": {},
   "source": [
    "Vertex AI Pipeline 提供了功能完备的sdk供开发者调用，开发者可以利用SDK快速构建机器学习工作流，并将工作流按照特定的顺序和逻辑编排起来。此外Vertex AI Pipeline与Vertex AI其它的功能以及GCP的其它服务进行了深度集成，从而使开发者可以快速轻松地创建工作流的任务，如创建Vertex AI训练任务、创建Vertex AI模型部署、向Big Query传输数据等。Vertex AI Pipeline与开源的Kubeflow pipeline接口兼容，并在开源的基础上做了更多的扩展，对于熟悉Kubeflow Pipeline的开发人员，可以快速地掌握Vertex AI Pipeline。\n",
    "\n",
    "在本实验中，我们将利用Vertex AI Pipeline的sdk定义一个端到端的机器学习工作流，改了流程由四个步骤组成：  \n",
    "- 创建Vertex AI 数据集，该任务会从GCS存储桶上读取dataset数据源文件，完成数据集的创建。\n",
    "- 创建Auto ML训练任务，AutoML任务会自动加载Vertex AI dataset，自动分析数据集后选择最佳的模型进行训练。\n",
    "- 创建Vertex AI Endpoint。\n",
    "- 部署Vertex AI Model 至 Vertex AI Endpoint。\n"
   ]
  },
  {
   "cell_type": "markdown",
   "id": "790552d2-dd3e-49f7-b63b-7b33f81f42d2",
   "metadata": {},
   "source": [
    "- 导入依赖包"
   ]
  },
  {
   "cell_type": "code",
   "execution_count": 30,
   "id": "453b993e-92e6-475c-b52a-3984ac0512a6",
   "metadata": {},
   "outputs": [],
   "source": [
    "import google.cloud.aiplatform as aip\n",
    "import kfp\n",
    "from google_cloud_pipeline_components import aiplatform as gcc_aip\n",
    "import os"
   ]
  },
  {
   "cell_type": "markdown",
   "id": "1422a4dd-0ff6-484a-ac7d-73f2fdd9e592",
   "metadata": {},
   "source": [
    "- 设置环境变量"
   ]
  },
  {
   "cell_type": "code",
   "execution_count": 12,
   "id": "c62a8366-1e2c-4701-ac25-b88bcb054d0b",
   "metadata": {},
   "outputs": [],
   "source": [
    "API_ENDPOINT = \"{}-aiplatform.googleapis.com\".format(REGION)\n",
    "PIPELINE_ROOT = \"{}/pipeline_root/flowers\".format(BUCKET_NAME)\n",
    "DATA_SOURCE = BUCKET_NAME + \"/dataset.csv\""
   ]
  },
  {
   "cell_type": "markdown",
   "id": "359441d0-a0f7-4f4f-82d9-1ad50aa1ac70",
   "metadata": {},
   "source": [
    "- 初始Vertex AI"
   ]
  },
  {
   "cell_type": "code",
   "execution_count": 24,
   "id": "89ccb392-8180-45e0-8781-f0e00719bb0e",
   "metadata": {},
   "outputs": [],
   "source": [
    "aip.init(project=PROJECT_ID, staging_bucket=BUCKET_NAME)"
   ]
  },
  {
   "cell_type": "markdown",
   "id": "9876653d-7b67-4c8a-ba17-526d48f79015",
   "metadata": {},
   "source": [
    "- 定义Pipeline流程"
   ]
  },
  {
   "cell_type": "code",
   "execution_count": 14,
   "id": "8d76e21a-0073-4db6-8c09-0c3acf97a5f5",
   "metadata": {},
   "outputs": [],
   "source": [
    "@kfp.dsl.pipeline(name=\"automl-training-pipeline\")\n",
    "def pipeline(project: str = PROJECT_ID, region: str = REGION, data_source: str = DATA_SOURCE):\n",
    "    ds_op = gcc_aip.ImageDatasetCreateOp(\n",
    "        project=project,\n",
    "        display_name=\"train-automl-flowers-dataset\",\n",
    "        gcs_source=data_source,\n",
    "        import_schema_uri=aip.schema.dataset.ioformat.image.single_label_classification,\n",
    "    )\n",
    "\n",
    "    training_job_run_op = gcc_aip.AutoMLImageTrainingJobRunOp(\n",
    "        project=project,\n",
    "        display_name=\"train-automl-flowers\",\n",
    "        prediction_type=\"classification\",\n",
    "        model_type=\"CLOUD\",\n",
    "        dataset=ds_op.outputs[\"dataset\"],\n",
    "        model_display_name=\"train-automl-flowers\",\n",
    "        training_fraction_split=0.6,\n",
    "        validation_fraction_split=0.2,\n",
    "        test_fraction_split=0.2,\n",
    "        budget_milli_node_hours=8000,\n",
    "    )\n",
    "\n",
    "    endpoint_op = gcc_aip.EndpointCreateOp(\n",
    "        project=project,\n",
    "        location=region,\n",
    "        display_name=\"train-automl-flowers\",\n",
    "    )\n",
    "\n",
    "    gcc_aip.ModelDeployOp(\n",
    "        model=training_job_run_op.outputs[\"model\"],\n",
    "        endpoint=endpoint_op.outputs[\"endpoint\"],\n",
    "        automatic_resources_min_replica_count=1,\n",
    "        automatic_resources_max_replica_count=1,\n",
    "    )"
   ]
  },
  {
   "cell_type": "markdown",
   "id": "7b618a39-342f-46c7-a4ca-2b06bf27d119",
   "metadata": {},
   "source": [
    "## 步骤三：编译 Vertex Pipeline"
   ]
  },
  {
   "cell_type": "markdown",
   "id": "275d0a83-9119-4243-b28f-3e8cf0618bcf",
   "metadata": {},
   "source": [
    "编译Vertex AI Pipeline，编译后，Vertex AI 会将上一步所定义的Pipeline转换成json描述文件。"
   ]
  },
  {
   "cell_type": "code",
   "execution_count": null,
   "id": "80b5968e-6dfa-4838-ab38-f3acd19033bb",
   "metadata": {},
   "outputs": [],
   "source": [
    "from kfp.v2 import compiler  \n",
    "\n",
    "compiler.Compiler().compile(\n",
    "    pipeline_func=pipeline,\n",
    "    package_path=\"automl training pipeline.json\".replace(\" \", \"-\"),\n",
    ")"
   ]
  },
  {
   "cell_type": "markdown",
   "id": "ed08b3a9-70e5-449d-a3fa-229402fa8fbf",
   "metadata": {},
   "source": [
    "## 步骤四： 运行Pipeline"
   ]
  },
  {
   "cell_type": "markdown",
   "id": "cb92ea15-46ed-462a-a2b1-38011a5b24d3",
   "metadata": {},
   "source": [
    "可通过两种方式创建和运行Pipeline：控制台或者命令行。在创建Pipeline时，需要使用上一步编译产生的json文件。"
   ]
  },
  {
   "cell_type": "code",
   "execution_count": null,
   "id": "c5cf08cc-4395-4ad3-9998-75261cc9920f",
   "metadata": {},
   "outputs": [],
   "source": [
    "from datetime import datetime\n",
    "\n",
    "TIMESTAMP = datetime.now().strftime(\"%Y%m%d%H%M%S\")\n",
    "\n",
    "DISPLAY_NAME = \"automl-training-pipeline_\" + TIMESTAMP\n",
    "\n",
    "job = aip.PipelineJob(\n",
    "    display_name=DISPLAY_NAME,\n",
    "    template_path=\"/home/jupyter/vertex-ai-lab/automl training pipeline.json\".replace(\" \", \"-\"),\n",
    "    pipeline_root=PIPELINE_ROOT,\n",
    "    enable_caching=False,\n",
    ")\n",
    "\n",
    "job.run()"
   ]
  },
  {
   "cell_type": "markdown",
   "id": "acb6f106-0c21-4169-839c-a5bde0a16313",
   "metadata": {},
   "source": [
    "Pipeline创建后，可以到Google Cloud控制台上查看Pipeline的运行情况。"
   ]
  },
  {
   "cell_type": "markdown",
   "id": "f6eada8d-194d-47fb-9e32-ebd881f17c42",
   "metadata": {},
   "source": [
    "## 步骤五：预测图片分类"
   ]
  },
  {
   "cell_type": "markdown",
   "id": "e31aaa00-ec73-4686-ad5d-189f23054e2c",
   "metadata": {},
   "source": [
    "- 定义环境变量"
   ]
  },
  {
   "cell_type": "markdown",
   "id": "8a3919e6-efa6-43e4-a4bc-14b34eaf235b",
   "metadata": {},
   "source": [
    "将<ENDPOINR_ID>替换成实际的Vertex AI Endpoint ID"
   ]
  },
  {
   "cell_type": "code",
   "execution_count": null,
   "id": "69a776f2-029c-48a6-a8d8-9f22ab005afa",
   "metadata": {},
   "outputs": [],
   "source": [
    "IMG_WIDTH = 128\n",
    "COLUMNS = ['dandelion', 'daisy', 'tulips', 'sunflowers', 'roses']\n",
    "ENDPOINT_ID = <ENDPOINT_ID>\n",
    "\n",
    "aip_client = aip.gapic.PredictionServiceClient(client_options={\n",
    "    'api_endpoint': 'us-central1-aiplatform.googleapis.com'\n",
    "})\n",
    "\n",
    "aip_endpoint_name = f'projects/{PROJECT_ID}/locations/us-central1/endpoints/{ENDPOINT_ID}'"
   ]
  },
  {
   "cell_type": "markdown",
   "id": "0802692f-0645-4a5e-b6df-219c7ce58bf2",
   "metadata": {},
   "source": [
    "- 定义图像预处理函数与Vertex AI Predict函数"
   ]
  },
  {
   "cell_type": "code",
   "execution_count": null,
   "id": "1220fa4b-f892-4851-9fb4-2261623c33d6",
   "metadata": {},
   "outputs": [],
   "source": [
    "import tensorflow as tf\n",
    "import logging\n",
    "from google.protobuf import json_format\n",
    "from google.protobuf.struct_pb2 import Value\n",
    "\n",
    "def preprocess_image(path):\n",
    "    image = tf.io.read_file(path)\n",
    "    image = tf.image.decode_jpeg(image, channels=3)\n",
    "    image = tf.image.resize(image, [128, 128])\n",
    "    image /= 255.0 \n",
    "    return image.numpy().tolist()\n",
    "\n",
    "def get_prediction_v1(instance):\n",
    "    logging.info('Sending prediction request to AI Platform ...')\n",
    "    try:\n",
    "        pb_instance = json_format.ParseDict(instance, Value())\n",
    "        response = aip_client.predict(endpoint=aip_endpoint_name,\n",
    "                                      instances=[pb_instance])\n",
    "        print(response.predictions[0])\n",
    "    except Exception as err:\n",
    "        logging.error(f'Prediction request failed: {type(err)}: {err}')\n",
    "        return None\n",
    "\n",
    "def get_prediction_v2(instance):\n",
    "    logging.info('Sending prediction request to AI Platform ...')\n",
    "    try:\n",
    "        pb_instance = json_format.ParseDict(instance, Value())\n",
    "        response = aip_client.predict(endpoint=aip_endpoint_name,\n",
    "                                      instances=[pb_instance])\n",
    "        max_value = max(response.predictions[0])\n",
    "        max_index = response.predictions[0].index(max_value)\n",
    "        print(COLUMNS[max_index])\n",
    "    except Exception as err:\n",
    "        logging.error(f'Prediction request failed: {type(err)}: {err}')\n",
    "        return None"
   ]
  },
  {
   "cell_type": "markdown",
   "id": "6ddf686a-c23b-49cd-89ea-79a21d0a6aef",
   "metadata": {},
   "source": [
    "- 读取图片，可尝试读取~/img文件夹内不同的图片，观察预测结果。"
   ]
  },
  {
   "cell_type": "code",
   "execution_count": null,
   "id": "1fdbd944-1375-4ad3-a29b-4b2507d0ed26",
   "metadata": {},
   "outputs": [],
   "source": [
    "instance = preprocess_image(\"/home/jupyter/vertex-ai-lab/img/tulips.jpeg\")"
   ]
  },
  {
   "cell_type": "markdown",
   "id": "3ea33bfd-6177-4421-a5a4-e2823149da7b",
   "metadata": {},
   "source": [
    "- 查看预测结果，在多分类场景下，Vertex AI Endpoint会返回分类概率的列表"
   ]
  },
  {
   "cell_type": "code",
   "execution_count": null,
   "id": "10b27962-c0fa-4bbb-88e3-930583ab5aa1",
   "metadata": {},
   "outputs": [],
   "source": [
    "get_prediction_v1(instance)"
   ]
  },
  {
   "cell_type": "markdown",
   "id": "39b12b64-d4ff-467b-b4e3-ed2c68d6305c",
   "metadata": {},
   "source": [
    "- 直接返回概率列表可读性不强，在实际应用场景下，需要对预测结果进行进一步处理，让结果更容易让人理解。"
   ]
  },
  {
   "cell_type": "code",
   "execution_count": null,
   "id": "eff411d9-bb5a-4767-be0a-0bb02f42bdd2",
   "metadata": {},
   "outputs": [],
   "source": [
    "get_prediction_v2(instance)"
   ]
  },
  {
   "cell_type": "markdown",
   "id": "109c5915-cf92-42d6-b446-95f4b20f0082",
   "metadata": {},
   "source": [
    "## 步骤六：清除环境"
   ]
  },
  {
   "cell_type": "code",
   "execution_count": 59,
   "id": "069ba8c1-dc5d-4e48-958c-eeab230c56fd",
   "metadata": {},
   "outputs": [],
   "source": [
    "DISPLAY_NAME=\"train-automl-flowers\""
   ]
  },
  {
   "cell_type": "code",
   "execution_count": null,
   "id": "83810bdc-58de-415d-b625-c8315983dcd9",
   "metadata": {},
   "outputs": [],
   "source": [
    "try:\n",
    "    endpoints = aip.Endpoint.list(\n",
    "        filter=f\"display_name={DISPLAY_NAME}\", order_by=\"create_time\"\n",
    "    )\n",
    "    endpoint = endpoints[0]\n",
    "    model_id = endpoint.list_models()[0]._pb.id\n",
    "    endpoint.undeploy(model_id)\n",
    "    aip.Endpoint.delete(endpoint.resource_name)\n",
    "    print(\"Deleted endpoint:\", endpoint)\n",
    "except Exception as e:\n",
    "    print(e)"
   ]
  },
  {
   "cell_type": "code",
   "execution_count": null,
   "id": "e31509ad-e349-4b3b-9df8-91ac600813ed",
   "metadata": {},
   "outputs": [],
   "source": [
    "try:\n",
    "    models = aip.Model.list(\n",
    "        filter=f\"display_name={DISPLAY_NAME}\", order_by=\"create_time\"\n",
    "    )\n",
    "    model = models[0]\n",
    "    aip.Model.delete(model)\n",
    "    print(\"Deleted model:\", model)\n",
    "except Exception as e:\n",
    "    print(e)"
   ]
  },
  {
   "cell_type": "code",
   "execution_count": null,
   "id": "7aaa2dc6-f283-40ae-b0c7-f7c03bf6bcfa",
   "metadata": {},
   "outputs": [],
   "source": [
    "job.delete()"
   ]
  }
 ],
 "metadata": {
  "environment": {
   "kernel": "python3",
   "name": "tf2-gpu.2-6.m89",
   "type": "gcloud",
   "uri": "gcr.io/deeplearning-platform-release/tf2-gpu.2-6:m89"
  },
  "kernelspec": {
   "display_name": "Python 3",
   "language": "python",
   "name": "python3"
  },
  "language_info": {
   "codemirror_mode": {
    "name": "ipython",
    "version": 3
   },
   "file_extension": ".py",
   "mimetype": "text/x-python",
   "name": "python",
   "nbconvert_exporter": "python",
   "pygments_lexer": "ipython3",
   "version": "3.7.12"
  }
 },
 "nbformat": 4,
 "nbformat_minor": 5
}
