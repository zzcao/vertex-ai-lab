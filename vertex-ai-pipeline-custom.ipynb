{
 "cells": [
  {
   "cell_type": "markdown",
   "id": "ad885d45-632b-4a27-b943-50378d63ffc4",
   "metadata": {},
   "source": [
    "# 利用Vertex Pipeline实现图片分类模型的自动化训练与部署（自定义模型）"
   ]
  },
  {
   "cell_type": "markdown",
   "id": "bd750be8-fa88-4a80-aaeb-0b228fe3b710",
   "metadata": {},
   "source": [
    "## 步骤一：环境准备"
   ]
  },
  {
   "cell_type": "markdown",
   "id": "4bf68230-fcdb-4fcb-8556-c81d8114846a",
   "metadata": {},
   "source": [
    "### 1.1 安装依赖包"
   ]
  },
  {
   "cell_type": "code",
   "execution_count": null,
   "id": "c0265606-d99c-4d72-8ce5-6af8bc445a75",
   "metadata": {},
   "outputs": [],
   "source": [
    "import os\n",
    "\n",
    "# Google Cloud Notebook\n",
    "if os.path.exists(\"/opt/deeplearning/metadata/env_version\") or os.getenv(\"IS_TESTING\"):\n",
    "    USER_FLAG = \"--user\"\n",
    "else:\n",
    "    USER_FLAG = \"\"\n",
    "\n",
    "! pip3 install --upgrade google-cloud-aiplatform $USER_FLAG"
   ]
  },
  {
   "cell_type": "code",
   "execution_count": null,
   "id": "9f23951d-fb8c-49ad-896b-e59855bd44fc",
   "metadata": {},
   "outputs": [],
   "source": [
    "! pip3 install kfp google-cloud-pipeline-components --upgrade $USER_FLAG"
   ]
  },
  {
   "cell_type": "code",
   "execution_count": 3,
   "id": "742767df-b496-4d7a-aadf-7c3e4682286c",
   "metadata": {},
   "outputs": [],
   "source": [
    "if os.getenv(\"IS_TESTING\"):\n",
    "    ! pip3 install --upgrade --force-reinstall $USER_FLAG tensorflow==2.5 kfp google-cloud-aiplatform google-cloud-storage google-cloud-pipel"
   ]
  },
  {
   "cell_type": "code",
   "execution_count": 4,
   "id": "11fc6f07-2b87-4f7f-b7c0-4448850341af",
   "metadata": {},
   "outputs": [],
   "source": [
    "import os\n",
    "\n",
    "if not os.getenv(\"IS_TESTING\"):\n",
    "    # Automatically restart kernel after installs\n",
    "    import IPython\n",
    "\n",
    "    app = IPython.Application.instance()\n",
    "    app.kernel.do_shutdown(True)"
   ]
  },
  {
   "cell_type": "markdown",
   "id": "13edf8c5-d881-499d-a5cb-54e02a6faacc",
   "metadata": {},
   "source": [
    "### 1.2 配置环境变量"
   ]
  },
  {
   "cell_type": "code",
   "execution_count": 3,
   "id": "348bd841-e02e-47c7-9ecf-3f7bfae379bd",
   "metadata": {},
   "outputs": [],
   "source": [
    "PROJECT_ID = \"civic-surge-310702\"\n",
    "REGION = \"us-central1\"\n",
    "BUCKET_NAME = \"gs://kubeflow-pipeline-demo-charles\" "
   ]
  },
  {
   "cell_type": "code",
   "execution_count": 4,
   "id": "e4807ba5-0853-4b59-bbcd-f2d2e4810057",
   "metadata": {},
   "outputs": [
    {
     "name": "stdout",
     "output_type": "stream",
     "text": [
      "Updated property [core/project].\n",
      "\u001b[1;33mWARNING:\u001b[0m You do not appear to have access to project [civic-surge-310702] or it does not exist.\n"
     ]
    }
   ],
   "source": [
    "!gcloud config set project {PROJECT_ID}"
   ]
  },
  {
   "cell_type": "markdown",
   "id": "fe25418d-e280-43c4-a54e-fe95b3168e02",
   "metadata": {},
   "source": [
    "### 1.3 创建资源"
   ]
  },
  {
   "cell_type": "markdown",
   "id": "19148e80-5ea2-4871-b03b-7bee48e3d69e",
   "metadata": {},
   "source": [
    "创建GCS存储桶，该存储桶的用途包括：  \n",
    "- 存放自定义模型训练的代码，Vertex training job在启动后会从该存储桶内下载模型训练代码，然后开启模型训练任务。  \n",
    "- 存放Vertex Pipeline每个步骤产生的Output数据（Vertex的Pipeline通常由多个步骤组成，在很多场景下，某一步骤的任务会使用上一步骤或上几个步骤产生的output数据）。  \n",
    "- 存放训练后的模型，Vertex training job在结束模型的训练后，会将模型存放在此存储桶上，最后Vertex Predict Endpoint在部署模型时会从此存储桶下载模型。"
   ]
  },
  {
   "cell_type": "code",
   "execution_count": 5,
   "id": "738917cb-cf42-4e9d-8e13-2465c6e81225",
   "metadata": {},
   "outputs": [
    {
     "name": "stdout",
     "output_type": "stream",
     "text": [
      "Creating gs://kubeflow-pipeline-demo-charles/...\n",
      "ServiceException: 409 A Cloud Storage bucket named 'kubeflow-pipeline-demo-charles' already exists. Try another name. Bucket names must be globally unique across all Google Cloud projects, including those outside of your organization.\n"
     ]
    }
   ],
   "source": [
    "! gsutil mb -l $REGION $BUCKET_NAME"
   ]
  },
  {
   "cell_type": "markdown",
   "id": "d96d16e6-1bc4-4937-87e9-0affbfddd577",
   "metadata": {},
   "source": [
    "### 1.4 权限配置"
   ]
  },
  {
   "cell_type": "markdown",
   "id": "7cfb6395-fb86-4316-9db4-280e2e41211f",
   "metadata": {},
   "source": [
    "Vertex AI 会为workbench实例自动分配并创建service account，通过为该service account分配存储桶的操作权限，用户可以在workbench实例上对存储桶进行数据上传、下载等操作。"
   ]
  },
  {
   "cell_type": "code",
   "execution_count": 6,
   "id": "b0fcaf3b-8c2a-490d-8e20-35623a5d82b2",
   "metadata": {},
   "outputs": [],
   "source": [
    "import os\n",
    "import sys\n",
    "\n",
    "# If on Google Cloud Notebook, then don't execute this code\n",
    "if not os.path.exists(\"/opt/deeplearning/metadata/env_version\"):\n",
    "    if \"google.colab\" in sys.modules:\n",
    "        from google.colab import auth as google_auth\n",
    "\n",
    "        google_auth.authenticate_user()\n",
    "\n",
    "    # If you are running this notebook locally, replace the string below with the\n",
    "    # path to your service account key and run this cell to authenticate your GCP\n",
    "    # account.\n",
    "    elif not os.getenv(\"IS_TESTING\"):\n",
    "        %env GOOGLE_APPLICATION_CREDENTIALS ''"
   ]
  },
  {
   "cell_type": "code",
   "execution_count": 7,
   "id": "c9d199ff-b8a2-49dd-b3c1-ba482313ab01",
   "metadata": {},
   "outputs": [
    {
     "name": "stdout",
     "output_type": "stream",
     "text": [
      "Service Account: *       1085591103916-compute@developer.gserviceaccount.com\n"
     ]
    }
   ],
   "source": [
    "SERVICE_ACCOUNT = \"\"  # @param {type:\"string\"}\n",
    "if (\n",
    "    SERVICE_ACCOUNT == \"\"\n",
    "    or SERVICE_ACCOUNT is None\n",
    "    or SERVICE_ACCOUNT == \"[your-service-account]\"\n",
    "):\n",
    "    # Get your GCP project id from gcloud\n",
    "    shell_output = !gcloud auth list 2>/dev/null\n",
    "    SERVICE_ACCOUNT = shell_output[2].strip()\n",
    "    print(\"Service Account:\", SERVICE_ACCOUNT)"
   ]
  },
  {
   "cell_type": "code",
   "execution_count": null,
   "id": "4bc095c3-f6da-4974-89c5-aefa43a67a34",
   "metadata": {},
   "outputs": [],
   "source": [
    "将上一步输出的service account粘贴在下方。"
   ]
  },
  {
   "cell_type": "code",
   "execution_count": 8,
   "id": "4ef6874c-465c-4c32-83d5-6f141ea025e1",
   "metadata": {},
   "outputs": [],
   "source": [
    "SERVICE_ACCOUNT = \"1085591103916-compute@developer.gserviceaccount.com\""
   ]
  },
  {
   "cell_type": "code",
   "execution_count": 9,
   "id": "bbf87fba-610d-44e3-ab19-e32aedab230d",
   "metadata": {},
   "outputs": [],
   "source": [
    "! gsutil iam ch serviceAccount:{SERVICE_ACCOUNT}:roles/storage.objectCreator $BUCKET_NAME\n",
    "\n",
    "! gsutil iam ch serviceAccount:{SERVICE_ACCOUNT}:roles/storage.objectViewer $BUCKET_NAME"
   ]
  },
  {
   "cell_type": "markdown",
   "id": "24eb9214-9fbc-4635-9ca9-99b490919b0f",
   "metadata": {},
   "source": [
    "### 1.5 上传模型训练代码包"
   ]
  },
  {
   "cell_type": "code",
   "execution_count": 10,
   "id": "f5cda43f-cf1e-41e2-8890-3382250eec7a",
   "metadata": {},
   "outputs": [],
   "source": [
    "TRAINING_CODE_PACKAGE_DIR = BUCKET_NAME + \"/training/\""
   ]
  },
  {
   "cell_type": "code",
   "execution_count": 11,
   "id": "2010ff59-f523-4b01-b640-32f1cf4b0991",
   "metadata": {},
   "outputs": [
    {
     "name": "stdout",
     "output_type": "stream",
     "text": [
      "Copying file:///home/jupyter/vertex-ai-lab/custom-training.tar.gz [Content-Type=application/x-tar]...\n",
      "/ [1 files][  1.9 KiB/  1.9 KiB]                                                \n",
      "Operation completed over 1 objects/1.9 KiB.                                      \n"
     ]
    }
   ],
   "source": [
    "! gsutil cp /home/jupyter/vertex-ai-lab/custom-training.tar.gz $TRAINING_CODE_PACKAGE_DIR"
   ]
  },
  {
   "cell_type": "markdown",
   "id": "da32f0dc-053a-4f1d-89e9-1a15ec495114",
   "metadata": {},
   "source": [
    "## 步骤二：编写Vertex AI Pipeline"
   ]
  },
  {
   "cell_type": "markdown",
   "id": "dc1a7c53-34f0-4f0d-8b10-9a625da6da59",
   "metadata": {},
   "source": [
    "Vertex AI Pipeline 提供了功能完备的sdk供开发者调用，开发者可以利用SDK快速构建机器学习工作流，并将工作流按照特定的顺序和逻辑编排起来。此外Vertex AI Pipeline与Vertex AI其它的功能以及GCP的其它服务进行了深度集成，从而使开发者可以快速轻松地创建工作流的任务，如创建Vertex AI训练任务、创建Vertex AI模型部署、向Big Query传输数据等。Vertex AI Pipeline与开源的Kubeflow pipeline接口兼容，并在开源的基础上做了更多的扩展，对于熟悉Kubeflow Pipeline的开发人员，可以快速地掌握Vertex AI Pipeline。\n",
    "\n",
    "在本实验中，我们将利用Vertex AI Pipeline的sdk定义一个端到端的机器学习工作流，改了流程由四个步骤组成：  \n",
    "- 创建Vertex AI训练任务，该任务会从GCS存储桶上下载模型训练代码并开启模型的训练，在模型训练结束后，任务会将训练好的模型自动上传至GCS存储桶上。\n",
    "- 创建Vertex AI模型，模型存储源选自第一步存储在GCS上的模型文件。\n",
    "- 创建Vertex AI Endpoint。\n",
    "- 部署Vertex AI Model 至 Vertex AI Endpoint。\n"
   ]
  },
  {
   "cell_type": "code",
   "execution_count": 12,
   "id": "b1e8ad76-c392-4955-bdcb-c8710ad7d285",
   "metadata": {},
   "outputs": [],
   "source": [
    "import google.cloud.aiplatform as aip\n",
    "from google_cloud_pipeline_components import aiplatform as gcc_aip\n",
    "from google_cloud_pipeline_components.experimental.custom_job import utils\n",
    "from kfp.v2 import compiler, dsl\n",
    "from kfp.v2.dsl import component"
   ]
  },
  {
   "cell_type": "markdown",
   "id": "34cd6ad2-112c-4d74-8b76-2767a9b19fe4",
   "metadata": {},
   "source": [
    "定义环境变量，这些变量会作为Vertex AI Pipline的参数自动传入到Vertex AI Pipeline具体的任务中。"
   ]
  },
  {
   "cell_type": "code",
   "execution_count": 13,
   "id": "dc0a249e-ab88-4582-a512-20b79f86ab0d",
   "metadata": {},
   "outputs": [],
   "source": [
    "MODEL_DIR = BUCKET_NAME + \"/output/model\"\n",
    "TRAINING_PACKAGE_FILE = BUCKET_NAME + \"/training/custom-training.tar.gz\"\n",
    "MODEL_OUTPUT_DIR = BUCKET_NAME + \"/output\"\n",
    "MODEL_NAME = \"image-classification-custom-model\""
   ]
  },
  {
   "cell_type": "markdown",
   "id": "8b2dec56-a6ac-4b82-b525-f38cba35ac05",
   "metadata": {},
   "source": [
    "初始化Vertex AI Pipeline。"
   ]
  },
  {
   "cell_type": "code",
   "execution_count": 14,
   "id": "6dffbd28-d4bf-45b6-a991-00c9d6bc00c1",
   "metadata": {},
   "outputs": [],
   "source": [
    "aip.init(project=PROJECT_ID, staging_bucket=BUCKET_NAME)"
   ]
  },
  {
   "cell_type": "markdown",
   "id": "0085bb0d-7cb5-4787-91f5-76149d2696fd",
   "metadata": {},
   "source": [
    "定义Vertex AI Pipeline，Pipeline中对应的具体任务都会定义在下方的代码中。"
   ]
  },
  {
   "cell_type": "code",
   "execution_count": 15,
   "id": "635b84ec-435f-4a26-b593-efd7b8a311f7",
   "metadata": {},
   "outputs": [],
   "source": [
    "@component\n",
    "def print_op(input1: str):\n",
    "    print(\"training task: {}\".format(input1))\n",
    "    \n",
    "\n",
    "@dsl.pipeline(name=\"custom-training-pipeline\")\n",
    "def pipeline(\n",
    "    project_id: str = PROJECT_ID,\n",
    "    staging_bucket: str = BUCKET_NAME,\n",
    "    training_package_file: str = TRAINING_PACKAGE_FILE,\n",
    "    model_output_dir: str = MODEL_OUTPUT_DIR,\n",
    "    model_name: str = MODEL_NAME,\n",
    "    image_uri: str = \"us-docker.pkg.dev/vertex-ai/prediction/tf2-cpu.2-7:latest\",\n",
    "    artifact_uri: str = MODEL_DIR,\n",
    "): \n",
    "    start_msg = print_op(\"starting pipeline\")\n",
    "    model_trainig_op = gcc_aip.CustomPythonPackageTrainingJobRunOp(\n",
    "        project = project_id,\n",
    "        display_name = \"train-custom-flowers\",\n",
    "        container_uri = \"us-docker.pkg.dev/vertex-ai/training/tf-cpu.2-7:latest\",\n",
    "        staging_bucket = staging_bucket,\n",
    "        python_package_gcs_uri = training_package_file,\n",
    "        python_module_name = \"trainer.task\",\n",
    "        base_output_dir = model_output_dir,\n",
    "        )\n",
    "    model_trainig_op.after(start_msg)\n",
    "    model_upload_op = gcc_aip.ModelUploadOp(\n",
    "        project = project_id,\n",
    "        display_name = \"train-custom-flowers\",\n",
    "        serving_container_image_uri = image_uri,\n",
    "        artifact_uri = artifact_uri,\n",
    "        )\n",
    "    model_upload_op.after(model_trainig_op)\n",
    "    endpoint_op = gcc_aip.EndpointCreateOp(\n",
    "        project = project_id,\n",
    "        location = \"us-central1\", \n",
    "        display_name = \"train-custom-flowers\",\n",
    "        )\n",
    "    endpoint_op.after(model_upload_op)\n",
    "    gcc_aip.ModelDeployOp(\n",
    "        model=model_upload_op.outputs[\"model\"],\n",
    "        endpoint=endpoint_op.outputs[\"endpoint\"],\n",
    "        dedicated_resources_machine_type=\"n1-standard-2\",\n",
    "        dedicated_resources_min_replica_count=1,\n",
    "        dedicated_resources_max_replica_count=2,\n",
    "    )"
   ]
  },
  {
   "cell_type": "markdown",
   "id": "cdb53ced-b86f-4db7-bd53-1bc4ab658665",
   "metadata": {},
   "source": [
    "## 步骤三：编译Vertex AI Pipeline"
   ]
  },
  {
   "cell_type": "markdown",
   "id": "32d4cd82-7196-42a6-9830-98da38acc143",
   "metadata": {},
   "source": [
    "在编写好Vertex AI Pipeline代码后可以对代码进行编译，编译后Vertex AI Pipeline会自动生成定义Pipeline的Json文件，用户可以利用该Json文件完成Pipeline的创建。"
   ]
  },
  {
   "cell_type": "code",
   "execution_count": 24,
   "id": "0e2b4cee-3029-4805-9a01-5ef658c6a2d4",
   "metadata": {},
   "outputs": [],
   "source": [
    "compiler.Compiler().compile(\n",
    "    pipeline_func=pipeline,\n",
    "    package_path=\"custom-training-pipeline.json\".replace(\" \", \"_\"),\n",
    ")"
   ]
  },
  {
   "cell_type": "markdown",
   "id": "b50b52af-70f3-4042-a0c9-6ecaf64e6713",
   "metadata": {},
   "source": [
    "## 步骤四：运行Vertex AI Pipeline 任务"
   ]
  },
  {
   "cell_type": "markdown",
   "id": "e6c1bb86-8581-4628-9a7c-ae70920a3b60",
   "metadata": {},
   "source": [
    "Vertex AI Pipeline提供两种任务创建的方式：\n",
    "- 进入GCP控制台，在Vertex AI Pipeline对应的界面，上传一步编译好的json文件，完成任务的创建。\n",
    "- 调用Vertex AI Pipeline对应的sdk，选择上一步编译好的json文件，完成任务的创建。"
   ]
  },
  {
   "cell_type": "code",
   "execution_count": null,
   "id": "892a9d11-7935-4b04-ba8d-1e5bd253269f",
   "metadata": {},
   "outputs": [],
   "source": [
    "from datetime import datetime\n",
    "\n",
    "PIPELINE_ROOT = BUCKET_NAME + \"/pipelineroot/\"\n",
    "TIMESTAMP = datetime.now().strftime(\"%Y%m%d%H%M%S\")\n",
    "\n",
    "DISPLAY_NAME = \"custom-training-pipeline_\" + TIMESTAMP\n",
    "\n",
    "job = aip.PipelineJob(\n",
    "    display_name=DISPLAY_NAME,\n",
    "    template_path=\"/home/jupyter/vertex-ai-lab/custom training pipeline.json\".replace(\" \", \"-\"),\n",
    "    pipeline_root=PIPELINE_ROOT,\n",
    "    enable_caching=False,\n",
    ")\n",
    "\n",
    "job.run()"
   ]
  },
  {
   "cell_type": "markdown",
   "id": "f3f951ad-1546-43ba-b697-f0a0ce60cd4c",
   "metadata": {},
   "source": [
    "在Pipeline运行的过程中，可以到Pipeline的界面查看整个工作流具体执行的情况，同时也可以Vertex AI的Training Job、Model以及Endpoint节目去查看资源的创建状态。"
   ]
  },
  {
   "cell_type": "markdown",
   "id": "b1ecdb01-e32a-4cf2-aefa-37de377b89f6",
   "metadata": {},
   "source": [
    "## 步骤五：预测图片分类"
   ]
  },
  {
   "cell_type": "markdown",
   "id": "ce484adf-ce8b-48d8-aa15-c2d76d031fcb",
   "metadata": {},
   "source": [
    "- 定义环境变量"
   ]
  },
  {
   "cell_type": "code",
   "execution_count": 26,
   "id": "f75353af-774e-4b3e-b6cd-39d182824033",
   "metadata": {},
   "outputs": [],
   "source": [
    "IMG_WIDTH = 128\n",
    "COLUMNS = ['dandelion', 'daisy', 'tulips', 'sunflowers', 'roses']\n",
    "ENDPOINT_ID = 4695046591998853120\n",
    "\n",
    "aip_client = aip.gapic.PredictionServiceClient(client_options={\n",
    "    'api_endpoint': 'us-central1-aiplatform.googleapis.com'\n",
    "})\n",
    "\n",
    "aip_endpoint_name = f'projects/{PROJECT_ID}/locations/us-central1/endpoints/{ENDPOINT_ID}'"
   ]
  },
  {
   "cell_type": "markdown",
   "id": "57299266-1e95-4949-8169-e7fe3b620ce8",
   "metadata": {},
   "source": [
    "- 定义图像预处理函数与Vertex AI Predict函数"
   ]
  },
  {
   "cell_type": "code",
   "execution_count": null,
   "id": "7280e1ff-1745-481c-8192-120c7772d4ba",
   "metadata": {},
   "outputs": [],
   "source": [
    "IMG_WIDTH = 128\n",
    "COLUMNS = ['dandelion', 'daisy', 'tulips', 'sunflowers', 'roses']\n",
    "ENDPOINT_ID = 4695046591998853120\n",
    "\n",
    "aip_client = aip.gapic.PredictionServiceClient(client_options={\n",
    "    'api_endpoint': 'us-central1-aiplatform.googleapis.com'\n",
    "})\n",
    "\n",
    "aip_endpoint_name = f'projects/{PROJECT_ID}/locations/us-central1/endpoints/{ENDPOINT_ID}'\n",
    "\n",
    "import tensorflow as tf\n",
    "import logging\n",
    "from google.protobuf import json_format\n",
    "from google.protobuf.struct_pb2 import Value\n",
    "\n",
    "def preprocess_image(path):\n",
    "    image = tf.io.read_file(path)\n",
    "    image = tf.image.decode_jpeg(image, channels=3)\n",
    "    image = tf.image.resize(image, [128, 128])\n",
    "    image /= 255.0 \n",
    "    return image.numpy().tolist()\n",
    "\n",
    "def get_prediction_v1(instance):\n",
    "    logging.info('Sending prediction request to AI Platform ...')\n",
    "    try:\n",
    "        pb_instance = json_format.ParseDict(instance, Value())\n",
    "        response = aip_client.predict(endpoint=aip_endpoint_name,\n",
    "                                      instances=[pb_instance])\n",
    "        print(response.predictions[0])\n",
    "    except Exception as err:\n",
    "        logging.error(f'Prediction request failed: {type(err)}: {err}')\n",
    "        return None\n",
    "\n",
    "def get_prediction_v2(instance):\n",
    "    logging.info('Sending prediction request to AI Platform ...')\n",
    "    try:\n",
    "        pb_instance = json_format.ParseDict(instance, Value())\n",
    "        response = aip_client.predict(endpoint=aip_endpoint_name,\n",
    "                                      instances=[pb_instance])\n",
    "        max_value = max(response.predictions[0])\n",
    "        max_index = response.predictions[0].index(max_value)\n",
    "        print(COLUMNS[max_index])\n",
    "    except Exception as err:\n",
    "        logging.error(f'Prediction request failed: {type(err)}: {err}')\n",
    "        return None"
   ]
  },
  {
   "cell_type": "markdown",
   "id": "f55925a2-d3a2-4cd1-a37a-8f59f9b47f9e",
   "metadata": {},
   "source": [
    "- 读取图片，可尝试读取~/img文件夹内不同的图片，观察预测结果。"
   ]
  },
  {
   "cell_type": "code",
   "execution_count": null,
   "id": "3a4ede83-6c9c-4b55-8b8a-2b4f3c3924e6",
   "metadata": {},
   "outputs": [],
   "source": [
    "instance = preprocess_image(\"/home/jupyter/vertex-ai-lab/img/tulips.jpeg\")"
   ]
  },
  {
   "cell_type": "markdown",
   "id": "a6433401-c71b-4f8e-a13b-7a0b98071868",
   "metadata": {},
   "source": [
    "- 查看预测结果，在多分类场景下，Vertex AI Endpoint会返回分类概率的列表"
   ]
  },
  {
   "cell_type": "code",
   "execution_count": null,
   "id": "bd8b0c10-37f2-4f8c-82ad-84308ad15e68",
   "metadata": {},
   "outputs": [],
   "source": [
    "get_prediction_v1(instance)"
   ]
  },
  {
   "cell_type": "markdown",
   "id": "d2f1c709-90e4-4836-b2d1-09853d63d83c",
   "metadata": {},
   "source": [
    "- 直接返回概率列表可读性不强，在实际应用场景下，需要对预测结果进行进一步处理，让结果更容易让人理解。"
   ]
  },
  {
   "cell_type": "code",
   "execution_count": null,
   "id": "75678d9f-2ba2-4617-a0ae-9a5d1be43edf",
   "metadata": {},
   "outputs": [],
   "source": [
    "get_prediction_v2(instance)"
   ]
  },
  {
   "cell_type": "markdown",
   "id": "e1c2b5ac-3f77-4b56-b162-90831c34a29d",
   "metadata": {},
   "source": [
    "## 步骤六：清除环境"
   ]
  },
  {
   "cell_type": "code",
   "execution_count": null,
   "id": "d3de1d5a-989c-48b6-aac6-da32b4454a48",
   "metadata": {},
   "outputs": [],
   "source": [
    "DISPLAY_NAME=\"train-custom-flowers\""
   ]
  },
  {
   "cell_type": "code",
   "execution_count": null,
   "id": "1162c53b-9d43-440a-91e9-7f655dce78f9",
   "metadata": {},
   "outputs": [],
   "source": [
    "try:\n",
    "    endpoints = aip.Endpoint.list(\n",
    "        filter=f\"display_name={DISPLAY_NAME}\", order_by=\"create_time\"\n",
    "    )\n",
    "    endpoint = endpoints[0]\n",
    "    model_id = endpoint.list_models()[0]._pb.id\n",
    "    endpoint.undeploy(model_id)\n",
    "    aip.Endpoint.delete(endpoint.resource_name)\n",
    "    print(\"Deleted endpoint:\", endpoint)\n",
    "except Exception as e:\n",
    "    print(e)"
   ]
  },
  {
   "cell_type": "code",
   "execution_count": null,
   "id": "24b0c362-506f-4a2d-8998-cf23ee132765",
   "metadata": {},
   "outputs": [],
   "source": [
    "try:\n",
    "    models = aip.Model.list(\n",
    "        filter=f\"display_name={DISPLAY_NAME}\", order_by=\"create_time\"\n",
    "    )\n",
    "    model = models[0]\n",
    "    aip.Model.delete(model)\n",
    "    print(\"Deleted model:\", model)\n",
    "except Exception as e:\n",
    "    print(e)"
   ]
  },
  {
   "cell_type": "code",
   "execution_count": null,
   "id": "f1ccfa11-d8e6-4a12-a401-6706e480641b",
   "metadata": {},
   "outputs": [],
   "source": [
    "job.delete()"
   ]
  }
 ],
 "metadata": {
  "environment": {
   "kernel": "python3",
   "name": "common-cpu.m89",
   "type": "gcloud",
   "uri": "gcr.io/deeplearning-platform-release/base-cpu:m89"
  },
  "kernelspec": {
   "display_name": "Python 3",
   "language": "python",
   "name": "python3"
  },
  "language_info": {
   "codemirror_mode": {
    "name": "ipython",
    "version": 3
   },
   "file_extension": ".py",
   "mimetype": "text/x-python",
   "name": "python",
   "nbconvert_exporter": "python",
   "pygments_lexer": "ipython3",
   "version": "3.7.12"
  }
 },
 "nbformat": 4,
 "nbformat_minor": 5
}
